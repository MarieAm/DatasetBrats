{
  "nbformat": 4,
  "nbformat_minor": 0,
  "metadata": {
    "colab": {
      "name": "classification_dataBrats.ipynb",
      "provenance": [],
      "collapsed_sections": []
    },
    "kernelspec": {
      "name": "python3",
      "display_name": "Python 3"
    }
  },
  "cells": [
    {
      "cell_type": "code",
      "metadata": {
        "id": "qnzxsrFNnpin",
        "colab": {
          "base_uri": "https://localhost:8080/"
        },
        "outputId": "7bf2a530-a336-481a-ecad-97c662c64a8b"
      },
      "source": [
        "from google.colab import drive\n",
        "drive.mount('/content/drive')"
      ],
      "execution_count": 9,
      "outputs": [
        {
          "output_type": "stream",
          "text": [
            "Drive already mounted at /content/drive; to attempt to forcibly remount, call drive.mount(\"/content/drive\", force_remount=True).\n"
          ],
          "name": "stdout"
        }
      ]
    },
    {
      "cell_type": "code",
      "metadata": {
        "id": "ZAIl9G_rnXBP",
        "colab": {
          "base_uri": "https://localhost:8080/"
        },
        "outputId": "88a29f6e-2c49-40f2-b13e-1d10f9c837a7"
      },
      "source": [
        "\n",
        "import numpy as np # linear algebra\n",
        "import pandas as pd # data processing, CSV file I/O (e.g. pd.read_csv)\n",
        "%matplotlib inline\n",
        "import matplotlib.pyplot as plt\n",
        "plt.style.use('ggplot')\n",
        "from sklearn.feature_selection import SelectKBest,chi2,RFECV\n",
        "import seaborn as sns\n",
        "import time\n",
        "\n",
        "# Input data files are available in the read-only \"../input/\" directory\n",
        "# For example, running this (by clicking run or pressing Shift+Enter) will list all files under the input directory\n",
        "\n",
        "import os\n",
        "for dirname, _, filenames in os.walk('/content/drive/My Drive/precision'):\n",
        "    for filename in filenames:\n",
        "        print(os.path.join(dirname, filename))"
      ],
      "execution_count": 10,
      "outputs": [
        {
          "output_type": "stream",
          "text": [
            "/content/drive/My Drive/precision/data.csv\n",
            "/content/drive/My Drive/precision/correcte.ipynb\n",
            "/content/drive/My Drive/precision/comparaison.ipynb\n",
            "/content/drive/My Drive/precision/dataBratsplustumeur.csv\n",
            "/content/drive/My Drive/precision/supprime.csv\n",
            "/content/drive/My Drive/precision/data_brats.csv\n",
            "/content/drive/My Drive/precision/Brats2020/BraTS20_Training_208/BraTS20_Training_208_flair.nii\n",
            "/content/drive/My Drive/precision/Brats2020/BraTS20_Training_208/BraTS20_Training_208_t1.nii\n",
            "/content/drive/My Drive/precision/Brats2020/BraTS20_Training_208/BraTS20_Training_208_seg.nii\n",
            "/content/drive/My Drive/precision/Brats2020/BraTS20_Training_208/BraTS20_Training_208_t1ce.nii\n",
            "/content/drive/My Drive/precision/Brats2020/BraTS20_Training_208/BraTS20_Training_208_t2.nii\n",
            "/content/drive/My Drive/precision/Brats2020/BraTS20_Training_207/BraTS20_Training_207_flair.nii\n",
            "/content/drive/My Drive/precision/Brats2020/BraTS20_Training_207/BraTS20_Training_207_t1.nii\n",
            "/content/drive/My Drive/precision/Brats2020/BraTS20_Training_207/BraTS20_Training_207_seg.nii\n",
            "/content/drive/My Drive/precision/Brats2020/BraTS20_Training_207/BraTS20_Training_207_t2.nii\n",
            "/content/drive/My Drive/precision/Brats2020/BraTS20_Training_207/BraTS20_Training_207_t1ce.nii\n",
            "/content/drive/My Drive/precision/Brats2020/BraTS20_Training_210/BraTS20_Training_210_flair.nii\n",
            "/content/drive/My Drive/precision/Brats2020/BraTS20_Training_210/BraTS20_Training_210_seg.nii\n",
            "/content/drive/My Drive/precision/Brats2020/BraTS20_Training_210/BraTS20_Training_210_t1.nii\n",
            "/content/drive/My Drive/precision/Brats2020/BraTS20_Training_210/BraTS20_Training_210_t1ce.nii\n",
            "/content/drive/My Drive/precision/Brats2020/BraTS20_Training_210/BraTS20_Training_210_t2.nii\n",
            "/content/drive/My Drive/precision/Brats2020/BraTS20_Training_209/BraTS20_Training_209_flair.nii\n",
            "/content/drive/My Drive/precision/Brats2020/BraTS20_Training_209/BraTS20_Training_209_t1.nii\n",
            "/content/drive/My Drive/precision/Brats2020/BraTS20_Training_209/BraTS20_Training_209_seg.nii\n",
            "/content/drive/My Drive/precision/Brats2020/BraTS20_Training_209/BraTS20_Training_209_t1ce.nii\n",
            "/content/drive/My Drive/precision/Brats2020/BraTS20_Training_209/BraTS20_Training_209_t2.nii\n",
            "/content/drive/My Drive/precision/Brats2020/BraTS20_Training_201/BraTS20_Training_201_flair.nii\n",
            "/content/drive/My Drive/precision/Brats2020/BraTS20_Training_201/BraTS20_Training_201_seg.nii\n",
            "/content/drive/My Drive/precision/Brats2020/BraTS20_Training_201/BraTS20_Training_201_t1ce.nii\n",
            "/content/drive/My Drive/precision/Brats2020/BraTS20_Training_201/BraTS20_Training_201_t2.nii\n",
            "/content/drive/My Drive/precision/Brats2020/BraTS20_Training_203/BraTS20_Training_203_seg.nii\n",
            "/content/drive/My Drive/precision/Brats2020/BraTS20_Training_203/BraTS20_Training_203_flair.nii\n",
            "/content/drive/My Drive/precision/Brats2020/BraTS20_Training_203/BraTS20_Training_203_t1ce.nii\n",
            "/content/drive/My Drive/precision/Brats2020/BraTS20_Training_203/BraTS20_Training_203_t1.nii\n",
            "/content/drive/My Drive/precision/Brats2020/BraTS20_Training_204/BraTS20_Training_204_flair.nii\n",
            "/content/drive/My Drive/precision/Brats2020/BraTS20_Training_204/BraTS20_Training_204_seg.nii\n",
            "/content/drive/My Drive/precision/Brats2020/BraTS20_Training_204/BraTS20_Training_204_t1.nii\n",
            "/content/drive/My Drive/precision/Brats2020/BraTS20_Training_204/BraTS20_Training_204_t2.nii\n",
            "/content/drive/My Drive/precision/Brats2020/BraTS20_Training_204/BraTS20_Training_204_t1ce.nii\n",
            "/content/drive/My Drive/precision/Brats2020/BraTS20_Training_202/BraTS20_Training_202_flair.nii\n",
            "/content/drive/My Drive/precision/Brats2020/BraTS20_Training_202/BraTS20_Training_202_t1.nii\n",
            "/content/drive/My Drive/precision/Brats2020/BraTS20_Training_202/BraTS20_Training_202_seg.nii\n",
            "/content/drive/My Drive/precision/Brats2020/BraTS20_Training_202/BraTS20_Training_202_t1ce.nii\n",
            "/content/drive/My Drive/precision/Brats2020/BraTS20_Training_202/BraTS20_Training_202_t2.nii\n",
            "/content/drive/My Drive/precision/Brats2020/BraTS20_Training_205/BraTS20_Training_205_flair.nii\n",
            "/content/drive/My Drive/precision/Brats2020/BraTS20_Training_205/BraTS20_Training_205_seg.nii\n",
            "/content/drive/My Drive/precision/Brats2020/BraTS20_Training_206/BraTS20_Training_206_flair.nii\n",
            "/content/drive/My Drive/precision/Brats2020/BraTS20_Training_206/BraTS20_Training_206_seg.nii\n"
          ],
          "name": "stdout"
        }
      ]
    },
    {
      "cell_type": "code",
      "metadata": {
        "id": "lNCQCwGtnhD_",
        "colab": {
          "base_uri": "https://localhost:8080/",
          "height": 683
        },
        "outputId": "f96f740f-96f9-4d33-b020-a75fd063b095"
      },
      "source": [
        "df = pd.read_csv(\"/content/drive/My Drive/precision/data_RFE.csv\")\n",
        "df.info()\n",
        "df.head()"
      ],
      "execution_count": 37,
      "outputs": [
        {
          "output_type": "stream",
          "text": [
            "<class 'pandas.core.frame.DataFrame'>\n",
            "RangeIndex: 239 entries, 0 to 238\n",
            "Data columns (total 20 columns):\n",
            " #   Column                       Non-Null Count  Dtype  \n",
            "---  ------                       --------------  -----  \n",
            " 0   id                           239 non-null    object \n",
            " 1   10Percentile                 239 non-null    float64\n",
            " 2   90Percentile                 239 non-null    float64\n",
            " 3   Energy                       239 non-null    float64\n",
            " 4   Entropy                      239 non-null    float64\n",
            " 5   InterquartileRange           239 non-null    float64\n",
            " 6   Kurtosis                     239 non-null    float64\n",
            " 7   Maximum                      239 non-null    float64\n",
            " 8   MeanAbsoluteDeviation        239 non-null    float64\n",
            " 9   Mean                         239 non-null    float64\n",
            " 10  Median                       239 non-null    float64\n",
            " 11  Minimum                      239 non-null    float64\n",
            " 12  Range                        239 non-null    float64\n",
            " 13  RobustMeanAbsoluteDeviation  239 non-null    float64\n",
            " 14  RootMeanSquared              239 non-null    float64\n",
            " 15  Skewness                     239 non-null    float64\n",
            " 16  TotalEnergy                  239 non-null    float64\n",
            " 17  Uniformity                   239 non-null    float64\n",
            " 18  Variance                     239 non-null    float64\n",
            " 19  diagnosis                    239 non-null    int64  \n",
            "dtypes: float64(18), int64(1), object(1)\n",
            "memory usage: 37.5+ KB\n"
          ],
          "name": "stdout"
        },
        {
          "output_type": "execute_result",
          "data": {
            "text/html": [
              "<div>\n",
              "<style scoped>\n",
              "    .dataframe tbody tr th:only-of-type {\n",
              "        vertical-align: middle;\n",
              "    }\n",
              "\n",
              "    .dataframe tbody tr th {\n",
              "        vertical-align: top;\n",
              "    }\n",
              "\n",
              "    .dataframe thead th {\n",
              "        text-align: right;\n",
              "    }\n",
              "</style>\n",
              "<table border=\"1\" class=\"dataframe\">\n",
              "  <thead>\n",
              "    <tr style=\"text-align: right;\">\n",
              "      <th></th>\n",
              "      <th>id</th>\n",
              "      <th>10Percentile</th>\n",
              "      <th>90Percentile</th>\n",
              "      <th>Energy</th>\n",
              "      <th>Entropy</th>\n",
              "      <th>InterquartileRange</th>\n",
              "      <th>Kurtosis</th>\n",
              "      <th>Maximum</th>\n",
              "      <th>MeanAbsoluteDeviation</th>\n",
              "      <th>Mean</th>\n",
              "      <th>Median</th>\n",
              "      <th>Minimum</th>\n",
              "      <th>Range</th>\n",
              "      <th>RobustMeanAbsoluteDeviation</th>\n",
              "      <th>RootMeanSquared</th>\n",
              "      <th>Skewness</th>\n",
              "      <th>TotalEnergy</th>\n",
              "      <th>Uniformity</th>\n",
              "      <th>Variance</th>\n",
              "      <th>diagnosis</th>\n",
              "    </tr>\n",
              "  </thead>\n",
              "  <tbody>\n",
              "    <tr>\n",
              "      <th>0</th>\n",
              "      <td>Brats17_TCIA_331</td>\n",
              "      <td>536.0</td>\n",
              "      <td>750.0</td>\n",
              "      <td>3.111775e+08</td>\n",
              "      <td>3.866283</td>\n",
              "      <td>112.25</td>\n",
              "      <td>4.032018</td>\n",
              "      <td>953.0</td>\n",
              "      <td>71.065048</td>\n",
              "      <td>643.437500</td>\n",
              "      <td>641.0</td>\n",
              "      <td>394.0</td>\n",
              "      <td>559.0</td>\n",
              "      <td>46.512441</td>\n",
              "      <td>650.227258</td>\n",
              "      <td>0.548493</td>\n",
              "      <td>3.111775e+08</td>\n",
              "      <td>0.083563</td>\n",
              "      <td>8783.670007</td>\n",
              "      <td>1</td>\n",
              "    </tr>\n",
              "    <tr>\n",
              "      <th>1</th>\n",
              "      <td>Brats17_TCIA_332</td>\n",
              "      <td>330.4</td>\n",
              "      <td>508.0</td>\n",
              "      <td>1.129536e+09</td>\n",
              "      <td>3.411143</td>\n",
              "      <td>71.00</td>\n",
              "      <td>3.786013</td>\n",
              "      <td>632.0</td>\n",
              "      <td>51.616230</td>\n",
              "      <td>428.782289</td>\n",
              "      <td>435.0</td>\n",
              "      <td>199.0</td>\n",
              "      <td>433.0</td>\n",
              "      <td>31.299912</td>\n",
              "      <td>434.428148</td>\n",
              "      <td>-0.585346</td>\n",
              "      <td>1.129536e+09</td>\n",
              "      <td>0.120538</td>\n",
              "      <td>4873.564465</td>\n",
              "      <td>1</td>\n",
              "    </tr>\n",
              "    <tr>\n",
              "      <th>2</th>\n",
              "      <td>Brats17_TCIA_335</td>\n",
              "      <td>182.0</td>\n",
              "      <td>396.0</td>\n",
              "      <td>1.202952e+09</td>\n",
              "      <td>3.373271</td>\n",
              "      <td>164.00</td>\n",
              "      <td>1.543203</td>\n",
              "      <td>471.0</td>\n",
              "      <td>76.041515</td>\n",
              "      <td>297.042053</td>\n",
              "      <td>318.0</td>\n",
              "      <td>117.0</td>\n",
              "      <td>354.0</td>\n",
              "      <td>65.206090</td>\n",
              "      <td>308.655554</td>\n",
              "      <td>-0.233349</td>\n",
              "      <td>1.202952e+09</td>\n",
              "      <td>0.108310</td>\n",
              "      <td>7034.270109</td>\n",
              "      <td>1</td>\n",
              "    </tr>\n",
              "    <tr>\n",
              "      <th>3</th>\n",
              "      <td>Brats17_TCIA_338</td>\n",
              "      <td>231.0</td>\n",
              "      <td>338.0</td>\n",
              "      <td>2.553628e+08</td>\n",
              "      <td>2.881545</td>\n",
              "      <td>55.00</td>\n",
              "      <td>3.763767</td>\n",
              "      <td>449.0</td>\n",
              "      <td>34.442067</td>\n",
              "      <td>285.089693</td>\n",
              "      <td>283.0</td>\n",
              "      <td>133.0</td>\n",
              "      <td>316.0</td>\n",
              "      <td>22.898203</td>\n",
              "      <td>288.597641</td>\n",
              "      <td>0.066007</td>\n",
              "      <td>2.553628e+08</td>\n",
              "      <td>0.166115</td>\n",
              "      <td>2012.465210</td>\n",
              "      <td>0</td>\n",
              "    </tr>\n",
              "    <tr>\n",
              "      <th>4</th>\n",
              "      <td>Brats17_TCIA_343</td>\n",
              "      <td>132.0</td>\n",
              "      <td>195.0</td>\n",
              "      <td>3.127860e+07</td>\n",
              "      <td>2.079769</td>\n",
              "      <td>34.00</td>\n",
              "      <td>2.880471</td>\n",
              "      <td>215.0</td>\n",
              "      <td>19.932968</td>\n",
              "      <td>161.889460</td>\n",
              "      <td>162.0</td>\n",
              "      <td>63.0</td>\n",
              "      <td>152.0</td>\n",
              "      <td>14.588893</td>\n",
              "      <td>163.714920</td>\n",
              "      <td>-0.127583</td>\n",
              "      <td>3.127860e+07</td>\n",
              "      <td>0.265740</td>\n",
              "      <td>594.377670</td>\n",
              "      <td>0</td>\n",
              "    </tr>\n",
              "  </tbody>\n",
              "</table>\n",
              "</div>"
            ],
            "text/plain": [
              "                 id  10Percentile  ...    Variance   diagnosis\n",
              "0  Brats17_TCIA_331         536.0  ...  8783.670007          1\n",
              "1  Brats17_TCIA_332         330.4  ...  4873.564465          1\n",
              "2  Brats17_TCIA_335         182.0  ...  7034.270109          1\n",
              "3  Brats17_TCIA_338         231.0  ...  2012.465210          0\n",
              "4  Brats17_TCIA_343         132.0  ...   594.377670          0\n",
              "\n",
              "[5 rows x 20 columns]"
            ]
          },
          "metadata": {
            "tags": []
          },
          "execution_count": 37
        }
      ]
    },
    {
      "cell_type": "code",
      "metadata": {
        "id": "FfVWDnvwxGmo"
      },
      "source": [
        "\n",
        "col = df.columns\n",
        "X = df.drop(['id','diagnosis','Skewness'], axis = 1)\n",
        "y = df['diagnosis']"
      ],
      "execution_count": 42,
      "outputs": []
    },
    {
      "cell_type": "code",
      "metadata": {
        "id": "83cNMfuaosq1",
        "colab": {
          "base_uri": "https://localhost:8080/",
          "height": 317
        },
        "outputId": "7eb8bcd3-0682-4024-fb80-e38cbeb4d79a"
      },
      "source": [
        "X.describe()"
      ],
      "execution_count": 43,
      "outputs": [
        {
          "output_type": "execute_result",
          "data": {
            "text/html": [
              "<div>\n",
              "<style scoped>\n",
              "    .dataframe tbody tr th:only-of-type {\n",
              "        vertical-align: middle;\n",
              "    }\n",
              "\n",
              "    .dataframe tbody tr th {\n",
              "        vertical-align: top;\n",
              "    }\n",
              "\n",
              "    .dataframe thead th {\n",
              "        text-align: right;\n",
              "    }\n",
              "</style>\n",
              "<table border=\"1\" class=\"dataframe\">\n",
              "  <thead>\n",
              "    <tr style=\"text-align: right;\">\n",
              "      <th></th>\n",
              "      <th>10Percentile</th>\n",
              "      <th>90Percentile</th>\n",
              "      <th>Energy</th>\n",
              "      <th>Entropy</th>\n",
              "      <th>InterquartileRange</th>\n",
              "      <th>Kurtosis</th>\n",
              "      <th>Maximum</th>\n",
              "      <th>MeanAbsoluteDeviation</th>\n",
              "      <th>Mean</th>\n",
              "      <th>Median</th>\n",
              "      <th>Minimum</th>\n",
              "      <th>Range</th>\n",
              "      <th>RobustMeanAbsoluteDeviation</th>\n",
              "      <th>RootMeanSquared</th>\n",
              "      <th>TotalEnergy</th>\n",
              "      <th>Uniformity</th>\n",
              "      <th>Variance</th>\n",
              "    </tr>\n",
              "  </thead>\n",
              "  <tbody>\n",
              "    <tr>\n",
              "      <th>count</th>\n",
              "      <td>239.000000</td>\n",
              "      <td>239.000000</td>\n",
              "      <td>2.390000e+02</td>\n",
              "      <td>239.000000</td>\n",
              "      <td>239.000000</td>\n",
              "      <td>239.000000</td>\n",
              "      <td>239.000000</td>\n",
              "      <td>239.000000</td>\n",
              "      <td>239.000000</td>\n",
              "      <td>239.000000</td>\n",
              "      <td>239.000000</td>\n",
              "      <td>239.000000</td>\n",
              "      <td>239.000000</td>\n",
              "      <td>239.000000</td>\n",
              "      <td>2.390000e+02</td>\n",
              "      <td>239.000000</td>\n",
              "      <td>239.000000</td>\n",
              "    </tr>\n",
              "    <tr>\n",
              "      <th>mean</th>\n",
              "      <td>329.638075</td>\n",
              "      <td>526.892887</td>\n",
              "      <td>3.372716e+09</td>\n",
              "      <td>3.347133</td>\n",
              "      <td>104.176778</td>\n",
              "      <td>4.122064</td>\n",
              "      <td>707.309623</td>\n",
              "      <td>62.235337</td>\n",
              "      <td>428.321516</td>\n",
              "      <td>428.357741</td>\n",
              "      <td>142.430962</td>\n",
              "      <td>564.878661</td>\n",
              "      <td>43.754384</td>\n",
              "      <td>436.903117</td>\n",
              "      <td>3.372716e+09</td>\n",
              "      <td>0.140470</td>\n",
              "      <td>8573.968902</td>\n",
              "    </tr>\n",
              "    <tr>\n",
              "      <th>std</th>\n",
              "      <td>180.435676</td>\n",
              "      <td>256.360042</td>\n",
              "      <td>7.060623e+09</td>\n",
              "      <td>0.804884</td>\n",
              "      <td>78.298575</td>\n",
              "      <td>2.670959</td>\n",
              "      <td>337.714122</td>\n",
              "      <td>41.799185</td>\n",
              "      <td>212.949592</td>\n",
              "      <td>215.747637</td>\n",
              "      <td>134.383851</td>\n",
              "      <td>306.317567</td>\n",
              "      <td>32.662864</td>\n",
              "      <td>215.663294</td>\n",
              "      <td>7.060623e+09</td>\n",
              "      <td>0.097249</td>\n",
              "      <td>12947.405115</td>\n",
              "    </tr>\n",
              "    <tr>\n",
              "      <th>min</th>\n",
              "      <td>18.000000</td>\n",
              "      <td>63.000000</td>\n",
              "      <td>3.326247e+06</td>\n",
              "      <td>0.230321</td>\n",
              "      <td>5.000000</td>\n",
              "      <td>1.385488</td>\n",
              "      <td>90.000000</td>\n",
              "      <td>3.554329</td>\n",
              "      <td>57.503489</td>\n",
              "      <td>57.000000</td>\n",
              "      <td>0.000000</td>\n",
              "      <td>65.000000</td>\n",
              "      <td>2.578293</td>\n",
              "      <td>57.682190</td>\n",
              "      <td>3.326247e+06</td>\n",
              "      <td>0.032568</td>\n",
              "      <td>0.145342</td>\n",
              "    </tr>\n",
              "    <tr>\n",
              "      <th>25%</th>\n",
              "      <td>215.500000</td>\n",
              "      <td>378.000000</td>\n",
              "      <td>3.443847e+08</td>\n",
              "      <td>2.892981</td>\n",
              "      <td>59.000000</td>\n",
              "      <td>2.874715</td>\n",
              "      <td>484.500000</td>\n",
              "      <td>37.044771</td>\n",
              "      <td>297.205641</td>\n",
              "      <td>301.500000</td>\n",
              "      <td>50.000000</td>\n",
              "      <td>350.500000</td>\n",
              "      <td>24.987334</td>\n",
              "      <td>305.330590</td>\n",
              "      <td>3.443847e+08</td>\n",
              "      <td>0.083775</td>\n",
              "      <td>2328.814415</td>\n",
              "    </tr>\n",
              "    <tr>\n",
              "      <th>50%</th>\n",
              "      <td>290.100000</td>\n",
              "      <td>468.000000</td>\n",
              "      <td>1.107118e+09</td>\n",
              "      <td>3.373271</td>\n",
              "      <td>83.000000</td>\n",
              "      <td>3.622011</td>\n",
              "      <td>638.000000</td>\n",
              "      <td>51.868800</td>\n",
              "      <td>380.462258</td>\n",
              "      <td>381.000000</td>\n",
              "      <td>102.000000</td>\n",
              "      <td>509.000000</td>\n",
              "      <td>35.117161</td>\n",
              "      <td>387.606303</td>\n",
              "      <td>1.107118e+09</td>\n",
              "      <td>0.115761</td>\n",
              "      <td>4508.082751</td>\n",
              "    </tr>\n",
              "    <tr>\n",
              "      <th>75%</th>\n",
              "      <td>403.750000</td>\n",
              "      <td>615.500000</td>\n",
              "      <td>2.868253e+09</td>\n",
              "      <td>3.821725</td>\n",
              "      <td>117.500000</td>\n",
              "      <td>4.490978</td>\n",
              "      <td>856.000000</td>\n",
              "      <td>71.065048</td>\n",
              "      <td>504.248072</td>\n",
              "      <td>512.000000</td>\n",
              "      <td>194.000000</td>\n",
              "      <td>711.000000</td>\n",
              "      <td>49.775607</td>\n",
              "      <td>508.390964</td>\n",
              "      <td>2.868253e+09</td>\n",
              "      <td>0.165168</td>\n",
              "      <td>8714.148052</td>\n",
              "    </tr>\n",
              "    <tr>\n",
              "      <th>max</th>\n",
              "      <td>1269.000000</td>\n",
              "      <td>1840.200000</td>\n",
              "      <td>6.255406e+10</td>\n",
              "      <td>5.171818</td>\n",
              "      <td>633.000000</td>\n",
              "      <td>31.261050</td>\n",
              "      <td>2336.000000</td>\n",
              "      <td>292.540078</td>\n",
              "      <td>1525.794995</td>\n",
              "      <td>1500.000000</td>\n",
              "      <td>773.000000</td>\n",
              "      <td>1751.000000</td>\n",
              "      <td>259.063988</td>\n",
              "      <td>1542.443760</td>\n",
              "      <td>6.255406e+10</td>\n",
              "      <td>0.931512</td>\n",
              "      <td>98968.979609</td>\n",
              "    </tr>\n",
              "  </tbody>\n",
              "</table>\n",
              "</div>"
            ],
            "text/plain": [
              "       10Percentile  90Percentile  ...  Uniformity     Variance \n",
              "count    239.000000    239.000000  ...  239.000000    239.000000\n",
              "mean     329.638075    526.892887  ...    0.140470   8573.968902\n",
              "std      180.435676    256.360042  ...    0.097249  12947.405115\n",
              "min       18.000000     63.000000  ...    0.032568      0.145342\n",
              "25%      215.500000    378.000000  ...    0.083775   2328.814415\n",
              "50%      290.100000    468.000000  ...    0.115761   4508.082751\n",
              "75%      403.750000    615.500000  ...    0.165168   8714.148052\n",
              "max     1269.000000   1840.200000  ...    0.931512  98968.979609\n",
              "\n",
              "[8 rows x 17 columns]"
            ]
          },
          "metadata": {
            "tags": []
          },
          "execution_count": 43
        }
      ]
    },
    {
      "cell_type": "code",
      "metadata": {
        "id": "AmxH0_45yD79"
      },
      "source": [
        "# Removing cols by looking at heatmap (Minimal Feature selection)\n",
        "from sklearn.model_selection import train_test_split\n",
        "drop_col = ['10Percentile',\t'90Percentile',\t'RootMeanSquared',\t'Entropy',\n",
        "            'Kurtosis',\t'Range','RobustMeanAbsoluteDeviation',\n",
        "            \t'TotalEnergy',\t'Uniformity']\n",
        "\n",
        "x_train1,x_test1,y_train1,y_test1 = train_test_split(X,y,test_size=0.3,random_state=42)\n"
      ],
      "execution_count": 44,
      "outputs": []
    },
    {
      "cell_type": "code",
      "metadata": {
        "id": "OnpBWJevzCXH"
      },
      "source": [
        "#Univariate feature selection\n",
        "select_feature = SelectKBest(chi2,k=10).fit(x_train1,y_train1)\n"
      ],
      "execution_count": 45,
      "outputs": []
    },
    {
      "cell_type": "code",
      "metadata": {
        "id": "apY6G6izpMJW",
        "colab": {
          "base_uri": "https://localhost:8080/"
        },
        "outputId": "6eafe627-bf40-417b-b66e-16c367775758"
      },
      "source": [
        "!pip install catboost"
      ],
      "execution_count": 25,
      "outputs": [
        {
          "output_type": "stream",
          "text": [
            "Collecting catboost\n",
            "\u001b[?25l  Downloading https://files.pythonhosted.org/packages/7e/c1/c1c4707013f9e2f8a96899dd3a87f66c9167d6d776a6dc8fe7ec8678d446/catboost-0.24.3-cp36-none-manylinux1_x86_64.whl (66.3MB)\n",
            "\u001b[K     |████████████████████████████████| 66.3MB 54kB/s \n",
            "\u001b[?25hRequirement already satisfied: numpy>=1.16.0 in /usr/local/lib/python3.6/dist-packages (from catboost) (1.18.5)\n",
            "Requirement already satisfied: matplotlib in /usr/local/lib/python3.6/dist-packages (from catboost) (3.2.2)\n",
            "Requirement already satisfied: plotly in /usr/local/lib/python3.6/dist-packages (from catboost) (4.4.1)\n",
            "Requirement already satisfied: six in /usr/local/lib/python3.6/dist-packages (from catboost) (1.15.0)\n",
            "Requirement already satisfied: scipy in /usr/local/lib/python3.6/dist-packages (from catboost) (1.4.1)\n",
            "Requirement already satisfied: graphviz in /usr/local/lib/python3.6/dist-packages (from catboost) (0.10.1)\n",
            "Requirement already satisfied: pandas>=0.24.0 in /usr/local/lib/python3.6/dist-packages (from catboost) (1.1.5)\n",
            "Requirement already satisfied: cycler>=0.10 in /usr/local/lib/python3.6/dist-packages (from matplotlib->catboost) (0.10.0)\n",
            "Requirement already satisfied: pyparsing!=2.0.4,!=2.1.2,!=2.1.6,>=2.0.1 in /usr/local/lib/python3.6/dist-packages (from matplotlib->catboost) (2.4.7)\n",
            "Requirement already satisfied: kiwisolver>=1.0.1 in /usr/local/lib/python3.6/dist-packages (from matplotlib->catboost) (1.3.1)\n",
            "Requirement already satisfied: python-dateutil>=2.1 in /usr/local/lib/python3.6/dist-packages (from matplotlib->catboost) (2.8.1)\n",
            "Requirement already satisfied: retrying>=1.3.3 in /usr/local/lib/python3.6/dist-packages (from plotly->catboost) (1.3.3)\n",
            "Requirement already satisfied: pytz>=2017.2 in /usr/local/lib/python3.6/dist-packages (from pandas>=0.24.0->catboost) (2018.9)\n",
            "Installing collected packages: catboost\n",
            "Successfully installed catboost-0.24.3\n"
          ],
          "name": "stdout"
        }
      ]
    },
    {
      "cell_type": "code",
      "metadata": {
        "id": "hWnkMIEzo7Qh",
        "colab": {
          "base_uri": "https://localhost:8080/"
        },
        "outputId": "c9f70f5a-3d8c-4504-e2d1-b38703aa45f7"
      },
      "source": [
        "from sklearn.metrics import accuracy_score\n",
        "from sklearn.linear_model import LogisticRegression\n",
        "from  sklearn.tree import DecisionTreeClassifier\n",
        "from sklearn.ensemble import RandomForestClassifier,AdaBoostClassifier\n",
        "from xgboost import  XGBClassifier\n",
        "from sklearn.svm import SVC\n",
        "from sklearn.naive_bayes import GaussianNB\n",
        "from sklearn.neighbors import KNeighborsClassifier\n",
        "from catboost import CatBoostClassifier\n",
        "import lightgbm as lgb\n",
        "from sklearn.neural_network import MLPClassifier\n",
        "from sklearn.linear_model import SGDClassifier\n",
        "from sklearn.discriminant_analysis import LinearDiscriminantAnalysis\n",
        "from sklearn.naive_bayes import BernoulliNB\n",
        "\n",
        "lda = LinearDiscriminantAnalysis(tol=0.01).fit(x_train1,y_train1)   \n",
        "sgd = SGDClassifier(max_iter=1500, tol=0.01).fit(x_train1,y_train1)    \n",
        "mlp = MLPClassifier(random_state=42).fit(x_train1,y_train1)  #neural Network model  \n",
        "bnb = BernoulliNB().fit(x_train1,y_train1)                 \n",
        "lgr = LogisticRegression(C=1.0, random_state=0, max_iter=10).fit(x_train1,y_train1)    #       \n",
        "dtc = DecisionTreeClassifier(random_state=0).fit(x_train1,y_train1) \n",
        "rfc = RandomForestClassifier(n_estimators=70,max_depth=2, random_state=42).fit(x_train1,y_train1)    \n",
        "xgb = XGBClassifier(n_estimators=63, max_depth=3,random_state=0).fit(x_train1,y_train1)            \n",
        "svm = SVC().fit(x_train1,y_train1)  \n",
        "gnb = GaussianNB().fit(x_train1,y_train1)    \n",
        "KNN = KNeighborsClassifier(n_neighbors=15).fit(x_train1,y_train1)    \n",
        "cat = CatBoostClassifier(iterations=109).fit(x_train1,y_train1)    \n",
        "lgb = lgb.LGBMClassifier( n_estimators=100).fit(x_train1,y_train1)    \n",
        "abc = AdaBoostClassifier(n_estimators=100).fit(x_train1,y_train1)   "
      ],
      "execution_count": 46,
      "outputs": [
        {
          "output_type": "stream",
          "text": [
            "/usr/local/lib/python3.6/dist-packages/sklearn/neural_network/_multilayer_perceptron.py:571: ConvergenceWarning: Stochastic Optimizer: Maximum iterations (200) reached and the optimization hasn't converged yet.\n",
            "  % self.max_iter, ConvergenceWarning)\n"
          ],
          "name": "stderr"
        },
        {
          "output_type": "stream",
          "text": [
            "Learning rate set to 0.03662\n",
            "0:\tlearn: 0.6879592\ttotal: 8.07ms\tremaining: 871ms\n",
            "1:\tlearn: 0.6808420\ttotal: 11.7ms\tremaining: 627ms\n",
            "2:\tlearn: 0.6756801\ttotal: 14.8ms\tremaining: 522ms\n",
            "3:\tlearn: 0.6709062\ttotal: 17.9ms\tremaining: 470ms\n",
            "4:\tlearn: 0.6661261\ttotal: 21ms\tremaining: 436ms\n",
            "5:\tlearn: 0.6619433\ttotal: 23.9ms\tremaining: 410ms\n",
            "6:\tlearn: 0.6578261\ttotal: 26.9ms\tremaining: 393ms\n",
            "7:\tlearn: 0.6529720\ttotal: 30.1ms\tremaining: 380ms\n",
            "8:\tlearn: 0.6489475\ttotal: 33.2ms\tremaining: 369ms\n",
            "9:\tlearn: 0.6434567\ttotal: 36.3ms\tremaining: 359ms\n",
            "10:\tlearn: 0.6404206\ttotal: 39.3ms\tremaining: 350ms\n",
            "11:\tlearn: 0.6359879\ttotal: 42.4ms\tremaining: 343ms\n",
            "12:\tlearn: 0.6326012\ttotal: 45.4ms\tremaining: 335ms\n",
            "13:\tlearn: 0.6293634\ttotal: 48.4ms\tremaining: 329ms\n",
            "14:\tlearn: 0.6256682\ttotal: 51.4ms\tremaining: 322ms\n",
            "15:\tlearn: 0.6227308\ttotal: 54.3ms\tremaining: 316ms\n",
            "16:\tlearn: 0.6194825\ttotal: 57.2ms\tremaining: 310ms\n",
            "17:\tlearn: 0.6162555\ttotal: 60.2ms\tremaining: 304ms\n",
            "18:\tlearn: 0.6124870\ttotal: 63.1ms\tremaining: 299ms\n",
            "19:\tlearn: 0.6088039\ttotal: 66ms\tremaining: 294ms\n",
            "20:\tlearn: 0.6056364\ttotal: 69ms\tremaining: 289ms\n",
            "21:\tlearn: 0.6013308\ttotal: 71.8ms\tremaining: 284ms\n",
            "22:\tlearn: 0.5992578\ttotal: 74.8ms\tremaining: 280ms\n",
            "23:\tlearn: 0.5958594\ttotal: 77.6ms\tremaining: 275ms\n",
            "24:\tlearn: 0.5930764\ttotal: 80.5ms\tremaining: 271ms\n",
            "25:\tlearn: 0.5893695\ttotal: 83.9ms\tremaining: 268ms\n",
            "26:\tlearn: 0.5867392\ttotal: 86.9ms\tremaining: 264ms\n",
            "27:\tlearn: 0.5838765\ttotal: 89.7ms\tremaining: 260ms\n",
            "28:\tlearn: 0.5816872\ttotal: 92.7ms\tremaining: 256ms\n",
            "29:\tlearn: 0.5793949\ttotal: 95.5ms\tremaining: 252ms\n",
            "30:\tlearn: 0.5763930\ttotal: 98.5ms\tremaining: 248ms\n",
            "31:\tlearn: 0.5734870\ttotal: 101ms\tremaining: 244ms\n",
            "32:\tlearn: 0.5710927\ttotal: 105ms\tremaining: 241ms\n",
            "33:\tlearn: 0.5686197\ttotal: 108ms\tremaining: 238ms\n",
            "34:\tlearn: 0.5659406\ttotal: 111ms\tremaining: 234ms\n",
            "35:\tlearn: 0.5645023\ttotal: 115ms\tremaining: 233ms\n",
            "36:\tlearn: 0.5624542\ttotal: 118ms\tremaining: 230ms\n",
            "37:\tlearn: 0.5607607\ttotal: 121ms\tremaining: 227ms\n",
            "38:\tlearn: 0.5590203\ttotal: 124ms\tremaining: 223ms\n",
            "39:\tlearn: 0.5573935\ttotal: 127ms\tremaining: 219ms\n",
            "40:\tlearn: 0.5554835\ttotal: 130ms\tremaining: 216ms\n",
            "41:\tlearn: 0.5536018\ttotal: 133ms\tremaining: 213ms\n",
            "42:\tlearn: 0.5516647\ttotal: 137ms\tremaining: 210ms\n",
            "43:\tlearn: 0.5496071\ttotal: 140ms\tremaining: 206ms\n",
            "44:\tlearn: 0.5477511\ttotal: 145ms\tremaining: 207ms\n",
            "45:\tlearn: 0.5462187\ttotal: 148ms\tremaining: 203ms\n",
            "46:\tlearn: 0.5447694\ttotal: 151ms\tremaining: 200ms\n",
            "47:\tlearn: 0.5423029\ttotal: 154ms\tremaining: 196ms\n",
            "48:\tlearn: 0.5402858\ttotal: 157ms\tremaining: 192ms\n",
            "49:\tlearn: 0.5383335\ttotal: 160ms\tremaining: 189ms\n",
            "50:\tlearn: 0.5368657\ttotal: 163ms\tremaining: 186ms\n",
            "51:\tlearn: 0.5353217\ttotal: 166ms\tremaining: 182ms\n",
            "52:\tlearn: 0.5335881\ttotal: 169ms\tremaining: 179ms\n",
            "53:\tlearn: 0.5315138\ttotal: 172ms\tremaining: 175ms\n",
            "54:\tlearn: 0.5301873\ttotal: 175ms\tremaining: 172ms\n",
            "55:\tlearn: 0.5283648\ttotal: 178ms\tremaining: 168ms\n",
            "56:\tlearn: 0.5267388\ttotal: 181ms\tremaining: 165ms\n",
            "57:\tlearn: 0.5250426\ttotal: 184ms\tremaining: 162ms\n",
            "58:\tlearn: 0.5233337\ttotal: 187ms\tremaining: 159ms\n",
            "59:\tlearn: 0.5223193\ttotal: 193ms\tremaining: 158ms\n",
            "60:\tlearn: 0.5215637\ttotal: 198ms\tremaining: 156ms\n",
            "61:\tlearn: 0.5198812\ttotal: 201ms\tremaining: 152ms\n",
            "62:\tlearn: 0.5189585\ttotal: 204ms\tremaining: 149ms\n",
            "63:\tlearn: 0.5173586\ttotal: 207ms\tremaining: 146ms\n",
            "64:\tlearn: 0.5162147\ttotal: 210ms\tremaining: 142ms\n",
            "65:\tlearn: 0.5148722\ttotal: 213ms\tremaining: 139ms\n",
            "66:\tlearn: 0.5132234\ttotal: 216ms\tremaining: 136ms\n",
            "67:\tlearn: 0.5111090\ttotal: 220ms\tremaining: 132ms\n",
            "68:\tlearn: 0.5102094\ttotal: 223ms\tremaining: 129ms\n",
            "69:\tlearn: 0.5094229\ttotal: 226ms\tremaining: 126ms\n",
            "70:\tlearn: 0.5070374\ttotal: 229ms\tremaining: 123ms\n",
            "71:\tlearn: 0.5056415\ttotal: 232ms\tremaining: 119ms\n",
            "72:\tlearn: 0.5042980\ttotal: 236ms\tremaining: 116ms\n",
            "73:\tlearn: 0.5034989\ttotal: 239ms\tremaining: 113ms\n",
            "74:\tlearn: 0.5023748\ttotal: 242ms\tremaining: 110ms\n",
            "75:\tlearn: 0.5011484\ttotal: 248ms\tremaining: 108ms\n",
            "76:\tlearn: 0.5002500\ttotal: 251ms\tremaining: 104ms\n",
            "77:\tlearn: 0.4990287\ttotal: 254ms\tremaining: 101ms\n",
            "78:\tlearn: 0.4982539\ttotal: 258ms\tremaining: 97.9ms\n",
            "79:\tlearn: 0.4971797\ttotal: 261ms\tremaining: 94.6ms\n",
            "80:\tlearn: 0.4959608\ttotal: 264ms\tremaining: 91.3ms\n",
            "81:\tlearn: 0.4944532\ttotal: 268ms\tremaining: 88.1ms\n",
            "82:\tlearn: 0.4929721\ttotal: 271ms\tremaining: 84.8ms\n",
            "83:\tlearn: 0.4917556\ttotal: 274ms\tremaining: 81.6ms\n",
            "84:\tlearn: 0.4906177\ttotal: 277ms\tremaining: 78.3ms\n",
            "85:\tlearn: 0.4896699\ttotal: 281ms\tremaining: 75ms\n",
            "86:\tlearn: 0.4883996\ttotal: 284ms\tremaining: 71.8ms\n",
            "87:\tlearn: 0.4872043\ttotal: 287ms\tremaining: 68.5ms\n",
            "88:\tlearn: 0.4850469\ttotal: 290ms\tremaining: 65.3ms\n",
            "89:\tlearn: 0.4839988\ttotal: 294ms\tremaining: 62ms\n",
            "90:\tlearn: 0.4826235\ttotal: 297ms\tremaining: 58.7ms\n",
            "91:\tlearn: 0.4813863\ttotal: 300ms\tremaining: 55.4ms\n",
            "92:\tlearn: 0.4801416\ttotal: 303ms\tremaining: 52.2ms\n",
            "93:\tlearn: 0.4786341\ttotal: 306ms\tremaining: 48.9ms\n",
            "94:\tlearn: 0.4773962\ttotal: 310ms\tremaining: 45.6ms\n",
            "95:\tlearn: 0.4756849\ttotal: 313ms\tremaining: 42.3ms\n",
            "96:\tlearn: 0.4750141\ttotal: 316ms\tremaining: 39.1ms\n",
            "97:\tlearn: 0.4739739\ttotal: 319ms\tremaining: 35.8ms\n",
            "98:\tlearn: 0.4726364\ttotal: 322ms\tremaining: 32.5ms\n",
            "99:\tlearn: 0.4717858\ttotal: 325ms\tremaining: 29.3ms\n",
            "100:\tlearn: 0.4708335\ttotal: 328ms\tremaining: 26ms\n",
            "101:\tlearn: 0.4696268\ttotal: 331ms\tremaining: 22.7ms\n",
            "102:\tlearn: 0.4691014\ttotal: 337ms\tremaining: 19.6ms\n",
            "103:\tlearn: 0.4678986\ttotal: 340ms\tremaining: 16.3ms\n",
            "104:\tlearn: 0.4668179\ttotal: 343ms\tremaining: 13.1ms\n",
            "105:\tlearn: 0.4656002\ttotal: 346ms\tremaining: 9.79ms\n",
            "106:\tlearn: 0.4643384\ttotal: 349ms\tremaining: 6.52ms\n",
            "107:\tlearn: 0.4634694\ttotal: 353ms\tremaining: 3.26ms\n",
            "108:\tlearn: 0.4625847\ttotal: 356ms\tremaining: 0us\n"
          ],
          "name": "stdout"
        }
      ]
    },
    {
      "cell_type": "code",
      "metadata": {
        "id": "6nAtdCUhnlvh"
      },
      "source": [
        "lda_pred= lda.predict(x_test1)\n",
        "sgd_pred = sgd.predict(x_test1)\n",
        "mlp_pred = mlp.predict(x_test1)\n",
        "bnb_pred = bnb.predict(x_test1)\n",
        "lgr_pred = lgr.predict(x_test1)\n",
        "dtc_pred = dtc.predict(x_test1)\n",
        "rfc_pred = rfc.predict(x_test1)\n",
        "xgb_pred = xgb.predict(x_test1)\n",
        "svm_pred = svm.predict(x_test1)\n",
        "gnb_pred = gnb.predict(x_test1)\n",
        "knn_pred = KNN.predict(x_test1)\n",
        "cat_pred = cat.predict(x_test1)\n",
        "lgb_pred =lgb.predict(x_test1)\n",
        "abc_pred = abc.predict(x_test1)\n"
      ],
      "execution_count": 47,
      "outputs": []
    },
    {
      "cell_type": "code",
      "metadata": {
        "id": "MySxXBZppZpJ",
        "colab": {
          "base_uri": "https://localhost:8080/"
        },
        "outputId": "4859de99-2162-48ff-c3ee-af6d88647a66"
      },
      "source": [
        "names = ['LDA','SGD','MLP','BernouilliNB','LogisticRegression','Tree','RandomForest','XGBoost','SVM','Gaussian NB','KNN','Catboost','Lightboost','Adaboost']\n",
        "models =[accuracy_score(y_test1,lda_pred)*100,accuracy_score(y_test1,sgd_pred)*100,accuracy_score(y_test1,mlp_pred)*100,accuracy_score(y_test1,bnb_pred)*100,accuracy_score(y_test1,lgr_pred)*100,accuracy_score(y_test1,dtc_pred)*100,accuracy_score(y_test1,rfc_pred)*100,accuracy_score(y_test1,xgb_pred)*100,accuracy_score(y_test1,svm_pred)*100,accuracy_score(y_test1,gnb_pred)*100,accuracy_score(y_test1,knn_pred)*100,accuracy_score(y_test1,cat_pred)*100,accuracy_score(y_test1,lgb_pred)*100,accuracy_score(y_test1,abc_pred)*100]\n",
        "print(\"The accuracy is LDA\",accuracy_score(y_test1,lda_pred)*100)\n",
        "print(\"The accuracy is SGDClassifier\",accuracy_score(y_test1,sgd_pred)*100)\n",
        "print(\"The accuracy is MLPClassifier(Neural Network)\",accuracy_score(y_test1,mlp_pred)*100)\n",
        "print(\"The accuracy is BernouilliNB\",accuracy_score(y_test1,bnb_pred)*100)\n",
        "print(\"The accuracy is LogisticRegression\",accuracy_score(y_test1,lgr_pred)*100)\n",
        "print(\"The accuracy is Tree\",accuracy_score(y_test1,dtc_pred)*100)\n",
        "print(\"The accuracy is RandomForest\",accuracy_score(y_test1,rfc_pred)*100)\n",
        "print(\"The accuracy is XGBoost\",accuracy_score(y_test1,xgb_pred)*100)\n",
        "print(\"The accuracy is SVM\",accuracy_score(y_test1,svm_pred)*100)\n",
        "print(\"The accuracy is Gaussian NB\", accuracy_score(y_test1,gnb_pred)*100)\n",
        "print(\"The accuaracy is KNN(K-nearest neighbors)\", accuracy_score(y_test1,knn_pred)*100)\n",
        "print(\"The accuracy is Catboost\",accuracy_score(y_test1,cat_pred)*100)\n",
        "print(\"The accuracy is Lightboost\",accuracy_score(y_test1,lgb_pred)*100)\n",
        "print(\"The accuracy is Adaboost\",accuracy_score(y_test1,abc_pred)*100)"
      ],
      "execution_count": 48,
      "outputs": [
        {
          "output_type": "stream",
          "text": [
            "The accuracy is LDA 72.22222222222221\n",
            "The accuracy is SGDClassifier 73.61111111111111\n",
            "The accuracy is MLPClassifier(Neural Network) 73.61111111111111\n",
            "The accuracy is BernouilliNB 73.61111111111111\n",
            "The accuracy is LogisticRegression 73.61111111111111\n",
            "The accuracy is Tree 70.83333333333334\n",
            "The accuracy is RandomForest 76.38888888888889\n",
            "The accuracy is XGBoost 81.94444444444444\n",
            "The accuracy is SVM 73.61111111111111\n",
            "The accuracy is Gaussian NB 37.5\n",
            "The accuaracy is KNN(K-nearest neighbors) 80.55555555555556\n",
            "The accuracy is Catboost 77.77777777777779\n",
            "The accuracy is Lightboost 79.16666666666666\n",
            "The accuracy is Adaboost 79.16666666666666\n"
          ],
          "name": "stdout"
        }
      ]
    },
    {
      "cell_type": "code",
      "metadata": {
        "id": "kQHR5SfnpeVj",
        "colab": {
          "base_uri": "https://localhost:8080/"
        },
        "outputId": "4647afb8-98ae-4f45-a8c5-094d799a23dc"
      },
      "source": [
        "print(models)\n",
        "print(names)"
      ],
      "execution_count": 49,
      "outputs": [
        {
          "output_type": "stream",
          "text": [
            "[72.22222222222221, 73.61111111111111, 73.61111111111111, 73.61111111111111, 73.61111111111111, 70.83333333333334, 76.38888888888889, 81.94444444444444, 73.61111111111111, 37.5, 80.55555555555556, 77.77777777777779, 79.16666666666666, 79.16666666666666]\n",
            "['LDA', 'SGD', 'MLP', 'BernouilliNB', 'LogisticRegression', 'Tree', 'RandomForest', 'XGBoost', 'SVM', 'Gaussian NB', 'KNN', 'Catboost', 'Lightboost', 'Adaboost']\n"
          ],
          "name": "stdout"
        }
      ]
    },
    {
      "cell_type": "code",
      "metadata": {
        "id": "Mh4ngfJjpf_I",
        "colab": {
          "base_uri": "https://localhost:8080/",
          "height": 353
        },
        "outputId": "c427cf86-e099-400c-ca38-1504ec610544"
      },
      "source": [
        "sns.set_colorcodes=True\n",
        "plt.title('Visualization of accuaracies of Classification Algorithms')\n",
        "sns.barplot(models,names)"
      ],
      "execution_count": 50,
      "outputs": [
        {
          "output_type": "stream",
          "text": [
            "/usr/local/lib/python3.6/dist-packages/seaborn/_decorators.py:43: FutureWarning: Pass the following variables as keyword args: x, y. From version 0.12, the only valid positional argument will be `data`, and passing other arguments without an explicit keyword will result in an error or misinterpretation.\n",
            "  FutureWarning\n"
          ],
          "name": "stderr"
        },
        {
          "output_type": "execute_result",
          "data": {
            "text/plain": [
              "<matplotlib.axes._subplots.AxesSubplot at 0x7fd0f076aa20>"
            ]
          },
          "metadata": {
            "tags": []
          },
          "execution_count": 50
        },
        {
          "output_type": "display_data",
          "data": {
            "image/png": "[encoded data removed]",
            "text/plain": [
              "<Figure size 432x288 with 1 Axes>"
            ]
          },
          "metadata": {
            "tags": []
          }
        }
      ]
    },
    {
      "cell_type": "markdown",
      "metadata": {
        "id": "D2cw9dGYpuQS"
      },
      "source": [
        "There is a highest accuracy of 98.2%"
      ]
    },
    {
      "cell_type": "markdown",
      "metadata": {
        "id": "WUxUk2t1ydlQ"
      },
      "source": [
        "Suite à l'analyse prédictive de tous ces algorithmes de classification, XGBoost obtient le plus haut score avec 82%"
      ]
    }
  ]
}