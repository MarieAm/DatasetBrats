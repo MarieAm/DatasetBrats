{
  "nbformat": 4,
  "nbformat_minor": 0,
  "metadata": {
    "colab": {
      "name": "regression.ipynb",
      "provenance": [],
      "collapsed_sections": []
    },
    "kernelspec": {
      "name": "python3",
      "display_name": "Python 3"
    }
  },
  "cells": [
    {
      "cell_type": "code",
      "metadata": {
        "id": "4SsVvxoikABv",
        "colab": {
          "base_uri": "https://localhost:8080/"
        },
        "outputId": "f48b6c5f-cfe7-4402-95b3-8a5a48ea706f"
      },
      "source": [
        "from google.colab import drive\n",
        "drive.mount('/content/drive')"
      ],
      "execution_count": 1,
      "outputs": [
        {
          "output_type": "stream",
          "text": [
            "Mounted at /content/drive\n"
          ],
          "name": "stdout"
        }
      ]
    },
    {
      "cell_type": "code",
      "metadata": {
        "id": "0RGW7co0kc1D",
        "colab": {
          "base_uri": "https://localhost:8080/"
        },
        "outputId": "832b7091-4e4b-47d2-d633-0f299b06a95c"
      },
      "source": [
        "import numpy as np \n",
        "import pandas as pd\n",
        "%matplotlib inline\n",
        "import matplotlib.pyplot as plt\n",
        "plt.style.use('ggplot')\n",
        "from sklearn.feature_selection import SelectKBest,chi2,RFECV\n",
        "import seaborn as sns\n",
        "import time\n",
        "\n",
        "import os\n",
        "for dirname, _, filenames in os.walk('/content/drive/My Drive/precision'):\n",
        "    for filename in filenames:\n",
        "        print(os.path.join(dirname, filename))"
      ],
      "execution_count": 2,
      "outputs": [
        {
          "output_type": "stream",
          "text": [
            "/content/drive/My Drive/precision/data.csv\n",
            "/content/drive/My Drive/precision/correcte.ipynb\n",
            "/content/drive/My Drive/precision/comparaison.ipynb\n",
            "/content/drive/My Drive/precision/dataBratsplustumeur.csv\n",
            "/content/drive/My Drive/precision/supprime.csv\n",
            "/content/drive/My Drive/precision/data_RFE.csv\n",
            "/content/drive/My Drive/precision/data_suppskewness.csv\n",
            "/content/drive/My Drive/precision/data_BM.csv\n",
            "/content/drive/My Drive/precision/submission.csv\n",
            "/content/drive/My Drive/precision/sample_submission.csv\n",
            "/content/drive/My Drive/precision/Brats2020/BraTS20_Training_208/BraTS20_Training_208_flair.nii\n",
            "/content/drive/My Drive/precision/Brats2020/BraTS20_Training_208/BraTS20_Training_208_t1.nii\n",
            "/content/drive/My Drive/precision/Brats2020/BraTS20_Training_208/BraTS20_Training_208_seg.nii\n",
            "/content/drive/My Drive/precision/Brats2020/BraTS20_Training_208/BraTS20_Training_208_t1ce.nii\n",
            "/content/drive/My Drive/precision/Brats2020/BraTS20_Training_208/BraTS20_Training_208_t2.nii\n",
            "/content/drive/My Drive/precision/Brats2020/BraTS20_Training_207/BraTS20_Training_207_flair.nii\n",
            "/content/drive/My Drive/precision/Brats2020/BraTS20_Training_207/BraTS20_Training_207_t1.nii\n",
            "/content/drive/My Drive/precision/Brats2020/BraTS20_Training_207/BraTS20_Training_207_seg.nii\n",
            "/content/drive/My Drive/precision/Brats2020/BraTS20_Training_207/BraTS20_Training_207_t2.nii\n",
            "/content/drive/My Drive/precision/Brats2020/BraTS20_Training_207/BraTS20_Training_207_t1ce.nii\n",
            "/content/drive/My Drive/precision/Brats2020/BraTS20_Training_210/BraTS20_Training_210_flair.nii\n",
            "/content/drive/My Drive/precision/Brats2020/BraTS20_Training_210/BraTS20_Training_210_seg.nii\n",
            "/content/drive/My Drive/precision/Brats2020/BraTS20_Training_210/BraTS20_Training_210_t1.nii\n",
            "/content/drive/My Drive/precision/Brats2020/BraTS20_Training_210/BraTS20_Training_210_t1ce.nii\n",
            "/content/drive/My Drive/precision/Brats2020/BraTS20_Training_210/BraTS20_Training_210_t2.nii\n",
            "/content/drive/My Drive/precision/Brats2020/BraTS20_Training_209/BraTS20_Training_209_flair.nii\n",
            "/content/drive/My Drive/precision/Brats2020/BraTS20_Training_209/BraTS20_Training_209_t1.nii\n",
            "/content/drive/My Drive/precision/Brats2020/BraTS20_Training_209/BraTS20_Training_209_seg.nii\n",
            "/content/drive/My Drive/precision/Brats2020/BraTS20_Training_209/BraTS20_Training_209_t1ce.nii\n",
            "/content/drive/My Drive/precision/Brats2020/BraTS20_Training_209/BraTS20_Training_209_t2.nii\n",
            "/content/drive/My Drive/precision/Brats2020/BraTS20_Training_201/BraTS20_Training_201_flair.nii\n",
            "/content/drive/My Drive/precision/Brats2020/BraTS20_Training_201/BraTS20_Training_201_seg.nii\n",
            "/content/drive/My Drive/precision/Brats2020/BraTS20_Training_201/BraTS20_Training_201_t1ce.nii\n",
            "/content/drive/My Drive/precision/Brats2020/BraTS20_Training_201/BraTS20_Training_201_t2.nii\n",
            "/content/drive/My Drive/precision/Brats2020/BraTS20_Training_203/BraTS20_Training_203_seg.nii\n",
            "/content/drive/My Drive/precision/Brats2020/BraTS20_Training_203/BraTS20_Training_203_flair.nii\n",
            "/content/drive/My Drive/precision/Brats2020/BraTS20_Training_203/BraTS20_Training_203_t1ce.nii\n",
            "/content/drive/My Drive/precision/Brats2020/BraTS20_Training_203/BraTS20_Training_203_t1.nii\n",
            "/content/drive/My Drive/precision/Brats2020/BraTS20_Training_204/BraTS20_Training_204_flair.nii\n",
            "/content/drive/My Drive/precision/Brats2020/BraTS20_Training_204/BraTS20_Training_204_seg.nii\n",
            "/content/drive/My Drive/precision/Brats2020/BraTS20_Training_204/BraTS20_Training_204_t1.nii\n",
            "/content/drive/My Drive/precision/Brats2020/BraTS20_Training_204/BraTS20_Training_204_t2.nii\n",
            "/content/drive/My Drive/precision/Brats2020/BraTS20_Training_204/BraTS20_Training_204_t1ce.nii\n",
            "/content/drive/My Drive/precision/Brats2020/BraTS20_Training_202/BraTS20_Training_202_flair.nii\n",
            "/content/drive/My Drive/precision/Brats2020/BraTS20_Training_202/BraTS20_Training_202_t1.nii\n",
            "/content/drive/My Drive/precision/Brats2020/BraTS20_Training_202/BraTS20_Training_202_seg.nii\n",
            "/content/drive/My Drive/precision/Brats2020/BraTS20_Training_202/BraTS20_Training_202_t1ce.nii\n",
            "/content/drive/My Drive/precision/Brats2020/BraTS20_Training_202/BraTS20_Training_202_t2.nii\n",
            "/content/drive/My Drive/precision/Brats2020/BraTS20_Training_205/BraTS20_Training_205_flair.nii\n",
            "/content/drive/My Drive/precision/Brats2020/BraTS20_Training_205/BraTS20_Training_205_seg.nii\n",
            "/content/drive/My Drive/precision/Brats2020/BraTS20_Training_206/BraTS20_Training_206_flair.nii\n",
            "/content/drive/My Drive/precision/Brats2020/BraTS20_Training_206/BraTS20_Training_206_seg.nii\n"
          ],
          "name": "stdout"
        }
      ]
    },
    {
      "cell_type": "code",
      "metadata": {
        "colab": {
          "base_uri": "https://localhost:8080/",
          "height": 224
        },
        "id": "25UoKGfKkqkU",
        "outputId": "6410d93b-fddb-408e-8375-e68ce049a8dd"
      },
      "source": [
        "data=pd.read_csv(\"/content/drive/My Drive/precision/data_RFE.csv\")\n",
        "data.head()"
      ],
      "execution_count": 3,
      "outputs": [
        {
          "output_type": "execute_result",
          "data": {
            "text/html": [
              "<div>\n",
              "<style scoped>\n",
              "    .dataframe tbody tr th:only-of-type {\n",
              "        vertical-align: middle;\n",
              "    }\n",
              "\n",
              "    .dataframe tbody tr th {\n",
              "        vertical-align: top;\n",
              "    }\n",
              "\n",
              "    .dataframe thead th {\n",
              "        text-align: right;\n",
              "    }\n",
              "</style>\n",
              "<table border=\"1\" class=\"dataframe\">\n",
              "  <thead>\n",
              "    <tr style=\"text-align: right;\">\n",
              "      <th></th>\n",
              "      <th>id</th>\n",
              "      <th>10Percentile</th>\n",
              "      <th>90Percentile</th>\n",
              "      <th>Energy</th>\n",
              "      <th>Entropy</th>\n",
              "      <th>InterquartileRange</th>\n",
              "      <th>Kurtosis</th>\n",
              "      <th>Maximum</th>\n",
              "      <th>MeanAbsoluteDeviation</th>\n",
              "      <th>Mean</th>\n",
              "      <th>Median</th>\n",
              "      <th>Minimum</th>\n",
              "      <th>Range</th>\n",
              "      <th>RobustMeanAbsoluteDeviation</th>\n",
              "      <th>RootMeanSquared</th>\n",
              "      <th>Skewness</th>\n",
              "      <th>TotalEnergy</th>\n",
              "      <th>Uniformity</th>\n",
              "      <th>Variance</th>\n",
              "      <th>diagnosis</th>\n",
              "    </tr>\n",
              "  </thead>\n",
              "  <tbody>\n",
              "    <tr>\n",
              "      <th>0</th>\n",
              "      <td>Brats17_TCIA_331</td>\n",
              "      <td>536.0</td>\n",
              "      <td>750.0</td>\n",
              "      <td>3.111775e+08</td>\n",
              "      <td>3.866283</td>\n",
              "      <td>112.25</td>\n",
              "      <td>4.032018</td>\n",
              "      <td>953.0</td>\n",
              "      <td>71.065048</td>\n",
              "      <td>643.437500</td>\n",
              "      <td>641.0</td>\n",
              "      <td>394.0</td>\n",
              "      <td>559.0</td>\n",
              "      <td>46.512441</td>\n",
              "      <td>650.227258</td>\n",
              "      <td>0.548493</td>\n",
              "      <td>3.111775e+08</td>\n",
              "      <td>0.083563</td>\n",
              "      <td>8783.670007</td>\n",
              "      <td>1</td>\n",
              "    </tr>\n",
              "    <tr>\n",
              "      <th>1</th>\n",
              "      <td>Brats17_TCIA_332</td>\n",
              "      <td>330.4</td>\n",
              "      <td>508.0</td>\n",
              "      <td>1.129536e+09</td>\n",
              "      <td>3.411143</td>\n",
              "      <td>71.00</td>\n",
              "      <td>3.786013</td>\n",
              "      <td>632.0</td>\n",
              "      <td>51.616230</td>\n",
              "      <td>428.782289</td>\n",
              "      <td>435.0</td>\n",
              "      <td>199.0</td>\n",
              "      <td>433.0</td>\n",
              "      <td>31.299912</td>\n",
              "      <td>434.428148</td>\n",
              "      <td>-0.585346</td>\n",
              "      <td>1.129536e+09</td>\n",
              "      <td>0.120538</td>\n",
              "      <td>4873.564465</td>\n",
              "      <td>1</td>\n",
              "    </tr>\n",
              "    <tr>\n",
              "      <th>2</th>\n",
              "      <td>Brats17_TCIA_335</td>\n",
              "      <td>182.0</td>\n",
              "      <td>396.0</td>\n",
              "      <td>1.202952e+09</td>\n",
              "      <td>3.373271</td>\n",
              "      <td>164.00</td>\n",
              "      <td>1.543203</td>\n",
              "      <td>471.0</td>\n",
              "      <td>76.041515</td>\n",
              "      <td>297.042053</td>\n",
              "      <td>318.0</td>\n",
              "      <td>117.0</td>\n",
              "      <td>354.0</td>\n",
              "      <td>65.206090</td>\n",
              "      <td>308.655554</td>\n",
              "      <td>-0.233349</td>\n",
              "      <td>1.202952e+09</td>\n",
              "      <td>0.108310</td>\n",
              "      <td>7034.270109</td>\n",
              "      <td>1</td>\n",
              "    </tr>\n",
              "    <tr>\n",
              "      <th>3</th>\n",
              "      <td>Brats17_TCIA_338</td>\n",
              "      <td>231.0</td>\n",
              "      <td>338.0</td>\n",
              "      <td>2.553628e+08</td>\n",
              "      <td>2.881545</td>\n",
              "      <td>55.00</td>\n",
              "      <td>3.763767</td>\n",
              "      <td>449.0</td>\n",
              "      <td>34.442067</td>\n",
              "      <td>285.089693</td>\n",
              "      <td>283.0</td>\n",
              "      <td>133.0</td>\n",
              "      <td>316.0</td>\n",
              "      <td>22.898203</td>\n",
              "      <td>288.597641</td>\n",
              "      <td>0.066007</td>\n",
              "      <td>2.553628e+08</td>\n",
              "      <td>0.166115</td>\n",
              "      <td>2012.465210</td>\n",
              "      <td>0</td>\n",
              "    </tr>\n",
              "    <tr>\n",
              "      <th>4</th>\n",
              "      <td>Brats17_TCIA_343</td>\n",
              "      <td>132.0</td>\n",
              "      <td>195.0</td>\n",
              "      <td>3.127860e+07</td>\n",
              "      <td>2.079769</td>\n",
              "      <td>34.00</td>\n",
              "      <td>2.880471</td>\n",
              "      <td>215.0</td>\n",
              "      <td>19.932968</td>\n",
              "      <td>161.889460</td>\n",
              "      <td>162.0</td>\n",
              "      <td>63.0</td>\n",
              "      <td>152.0</td>\n",
              "      <td>14.588893</td>\n",
              "      <td>163.714920</td>\n",
              "      <td>-0.127583</td>\n",
              "      <td>3.127860e+07</td>\n",
              "      <td>0.265740</td>\n",
              "      <td>594.377670</td>\n",
              "      <td>0</td>\n",
              "    </tr>\n",
              "  </tbody>\n",
              "</table>\n",
              "</div>"
            ],
            "text/plain": [
              "                 id  10Percentile  ...    Variance   diagnosis\n",
              "0  Brats17_TCIA_331         536.0  ...  8783.670007          1\n",
              "1  Brats17_TCIA_332         330.4  ...  4873.564465          1\n",
              "2  Brats17_TCIA_335         182.0  ...  7034.270109          1\n",
              "3  Brats17_TCIA_338         231.0  ...  2012.465210          0\n",
              "4  Brats17_TCIA_343         132.0  ...   594.377670          0\n",
              "\n",
              "[5 rows x 20 columns]"
            ]
          },
          "metadata": {
            "tags": []
          },
          "execution_count": 3
        }
      ]
    },
    {
      "cell_type": "code",
      "metadata": {
        "id": "KrWYo3_6rna0",
        "colab": {
          "base_uri": "https://localhost:8080/",
          "height": 224
        },
        "outputId": "b9e4ec84-44a3-4329-814a-300d5bb57bdb"
      },
      "source": [
        "data = data.drop(['id' ],axis = 1)\r\n",
        "data.head()"
      ],
      "execution_count": 4,
      "outputs": [
        {
          "output_type": "execute_result",
          "data": {
            "text/html": [
              "<div>\n",
              "<style scoped>\n",
              "    .dataframe tbody tr th:only-of-type {\n",
              "        vertical-align: middle;\n",
              "    }\n",
              "\n",
              "    .dataframe tbody tr th {\n",
              "        vertical-align: top;\n",
              "    }\n",
              "\n",
              "    .dataframe thead th {\n",
              "        text-align: right;\n",
              "    }\n",
              "</style>\n",
              "<table border=\"1\" class=\"dataframe\">\n",
              "  <thead>\n",
              "    <tr style=\"text-align: right;\">\n",
              "      <th></th>\n",
              "      <th>10Percentile</th>\n",
              "      <th>90Percentile</th>\n",
              "      <th>Energy</th>\n",
              "      <th>Entropy</th>\n",
              "      <th>InterquartileRange</th>\n",
              "      <th>Kurtosis</th>\n",
              "      <th>Maximum</th>\n",
              "      <th>MeanAbsoluteDeviation</th>\n",
              "      <th>Mean</th>\n",
              "      <th>Median</th>\n",
              "      <th>Minimum</th>\n",
              "      <th>Range</th>\n",
              "      <th>RobustMeanAbsoluteDeviation</th>\n",
              "      <th>RootMeanSquared</th>\n",
              "      <th>Skewness</th>\n",
              "      <th>TotalEnergy</th>\n",
              "      <th>Uniformity</th>\n",
              "      <th>Variance</th>\n",
              "      <th>diagnosis</th>\n",
              "    </tr>\n",
              "  </thead>\n",
              "  <tbody>\n",
              "    <tr>\n",
              "      <th>0</th>\n",
              "      <td>536.0</td>\n",
              "      <td>750.0</td>\n",
              "      <td>3.111775e+08</td>\n",
              "      <td>3.866283</td>\n",
              "      <td>112.25</td>\n",
              "      <td>4.032018</td>\n",
              "      <td>953.0</td>\n",
              "      <td>71.065048</td>\n",
              "      <td>643.437500</td>\n",
              "      <td>641.0</td>\n",
              "      <td>394.0</td>\n",
              "      <td>559.0</td>\n",
              "      <td>46.512441</td>\n",
              "      <td>650.227258</td>\n",
              "      <td>0.548493</td>\n",
              "      <td>3.111775e+08</td>\n",
              "      <td>0.083563</td>\n",
              "      <td>8783.670007</td>\n",
              "      <td>1</td>\n",
              "    </tr>\n",
              "    <tr>\n",
              "      <th>1</th>\n",
              "      <td>330.4</td>\n",
              "      <td>508.0</td>\n",
              "      <td>1.129536e+09</td>\n",
              "      <td>3.411143</td>\n",
              "      <td>71.00</td>\n",
              "      <td>3.786013</td>\n",
              "      <td>632.0</td>\n",
              "      <td>51.616230</td>\n",
              "      <td>428.782289</td>\n",
              "      <td>435.0</td>\n",
              "      <td>199.0</td>\n",
              "      <td>433.0</td>\n",
              "      <td>31.299912</td>\n",
              "      <td>434.428148</td>\n",
              "      <td>-0.585346</td>\n",
              "      <td>1.129536e+09</td>\n",
              "      <td>0.120538</td>\n",
              "      <td>4873.564465</td>\n",
              "      <td>1</td>\n",
              "    </tr>\n",
              "    <tr>\n",
              "      <th>2</th>\n",
              "      <td>182.0</td>\n",
              "      <td>396.0</td>\n",
              "      <td>1.202952e+09</td>\n",
              "      <td>3.373271</td>\n",
              "      <td>164.00</td>\n",
              "      <td>1.543203</td>\n",
              "      <td>471.0</td>\n",
              "      <td>76.041515</td>\n",
              "      <td>297.042053</td>\n",
              "      <td>318.0</td>\n",
              "      <td>117.0</td>\n",
              "      <td>354.0</td>\n",
              "      <td>65.206090</td>\n",
              "      <td>308.655554</td>\n",
              "      <td>-0.233349</td>\n",
              "      <td>1.202952e+09</td>\n",
              "      <td>0.108310</td>\n",
              "      <td>7034.270109</td>\n",
              "      <td>1</td>\n",
              "    </tr>\n",
              "    <tr>\n",
              "      <th>3</th>\n",
              "      <td>231.0</td>\n",
              "      <td>338.0</td>\n",
              "      <td>2.553628e+08</td>\n",
              "      <td>2.881545</td>\n",
              "      <td>55.00</td>\n",
              "      <td>3.763767</td>\n",
              "      <td>449.0</td>\n",
              "      <td>34.442067</td>\n",
              "      <td>285.089693</td>\n",
              "      <td>283.0</td>\n",
              "      <td>133.0</td>\n",
              "      <td>316.0</td>\n",
              "      <td>22.898203</td>\n",
              "      <td>288.597641</td>\n",
              "      <td>0.066007</td>\n",
              "      <td>2.553628e+08</td>\n",
              "      <td>0.166115</td>\n",
              "      <td>2012.465210</td>\n",
              "      <td>0</td>\n",
              "    </tr>\n",
              "    <tr>\n",
              "      <th>4</th>\n",
              "      <td>132.0</td>\n",
              "      <td>195.0</td>\n",
              "      <td>3.127860e+07</td>\n",
              "      <td>2.079769</td>\n",
              "      <td>34.00</td>\n",
              "      <td>2.880471</td>\n",
              "      <td>215.0</td>\n",
              "      <td>19.932968</td>\n",
              "      <td>161.889460</td>\n",
              "      <td>162.0</td>\n",
              "      <td>63.0</td>\n",
              "      <td>152.0</td>\n",
              "      <td>14.588893</td>\n",
              "      <td>163.714920</td>\n",
              "      <td>-0.127583</td>\n",
              "      <td>3.127860e+07</td>\n",
              "      <td>0.265740</td>\n",
              "      <td>594.377670</td>\n",
              "      <td>0</td>\n",
              "    </tr>\n",
              "  </tbody>\n",
              "</table>\n",
              "</div>"
            ],
            "text/plain": [
              "   10Percentile  90Percentile        Energy  ...  Uniformity    Variance   diagnosis\n",
              "0         536.0         750.0  3.111775e+08  ...    0.083563  8783.670007          1\n",
              "1         330.4         508.0  1.129536e+09  ...    0.120538  4873.564465          1\n",
              "2         182.0         396.0  1.202952e+09  ...    0.108310  7034.270109          1\n",
              "3         231.0         338.0  2.553628e+08  ...    0.166115  2012.465210          0\n",
              "4         132.0         195.0  3.127860e+07  ...    0.265740   594.377670          0\n",
              "\n",
              "[5 rows x 19 columns]"
            ]
          },
          "metadata": {
            "tags": []
          },
          "execution_count": 4
        }
      ]
    },
    {
      "cell_type": "code",
      "metadata": {
        "colab": {
          "base_uri": "https://localhost:8080/"
        },
        "id": "oPiy5X9Fronw",
        "outputId": "3dbca89e-c839-4add-cf6f-0a82198a2ba6"
      },
      "source": [
        "data.diagnosis.value_counts(normalize = True)\n",
        "from sklearn.preprocessing import LabelEncoder\n",
        "le = LabelEncoder()\n",
        "data['diagnosis'] = le.fit_transform(data['diagnosis'])\n",
        "data.diagnosis.value_counts(normalize=True)"
      ],
      "execution_count": 5,
      "outputs": [
        {
          "output_type": "execute_result",
          "data": {
            "text/plain": [
              "1    0.719665\n",
              "0    0.280335\n",
              "Name: diagnosis, dtype: float64"
            ]
          },
          "metadata": {
            "tags": []
          },
          "execution_count": 5
        }
      ]
    },
    {
      "cell_type": "code",
      "metadata": {
        "id": "Y36Bnua1r3gv"
      },
      "source": [
        "# Standardizing our features except target variable\n",
        "from sklearn.compose import make_column_transformer\n",
        "from sklearn.preprocessing import StandardScaler\n",
        "stand_scale = data.drop(['diagnosis'],axis = 1)\n",
        "col_trans = make_column_transformer(\n",
        "            (StandardScaler(), stand_scale.columns),\n",
        "            remainder = 'passthrough')"
      ],
      "execution_count": 6,
      "outputs": []
    },
    {
      "cell_type": "code",
      "metadata": {
        "id": "QOeIEYVsr8PR"
      },
      "source": [
        "from sklearn.model_selection import train_test_split\n",
        "X = data.drop(['diagnosis'], axis = 1)\n",
        "y = data['diagnosis']\n",
        "X_train, X_test, y_train, y_test = train_test_split(X, y, test_size = 0.20, random_state = 0)"
      ],
      "execution_count": 7,
      "outputs": []
    },
    {
      "cell_type": "code",
      "metadata": {
        "colab": {
          "base_uri": "https://localhost:8080/"
        },
        "id": "KAe5Hourp9g9",
        "outputId": "902912b6-33ed-4e5c-aa6e-55c00a85425d"
      },
      "source": [
        "!pip install catboost"
      ],
      "execution_count": 8,
      "outputs": [
        {
          "output_type": "stream",
          "text": [
            "Collecting catboost\n",
            "\u001b[?25l  Downloading https://files.pythonhosted.org/packages/20/37/bc4e0ddc30c07a96482abf1de7ed1ca54e59bba2026a33bca6d2ef286e5b/catboost-0.24.4-cp36-none-manylinux1_x86_64.whl (65.7MB)\n",
            "\u001b[K     |████████████████████████████████| 65.8MB 58kB/s \n",
            "\u001b[?25hRequirement already satisfied: pandas>=0.24.0 in /usr/local/lib/python3.6/dist-packages (from catboost) (1.1.5)\n",
            "Requirement already satisfied: six in /usr/local/lib/python3.6/dist-packages (from catboost) (1.15.0)\n",
            "Requirement already satisfied: graphviz in /usr/local/lib/python3.6/dist-packages (from catboost) (0.10.1)\n",
            "Requirement already satisfied: numpy>=1.16.0 in /usr/local/lib/python3.6/dist-packages (from catboost) (1.19.4)\n",
            "Requirement already satisfied: scipy in /usr/local/lib/python3.6/dist-packages (from catboost) (1.4.1)\n",
            "Requirement already satisfied: matplotlib in /usr/local/lib/python3.6/dist-packages (from catboost) (3.2.2)\n",
            "Requirement already satisfied: plotly in /usr/local/lib/python3.6/dist-packages (from catboost) (4.4.1)\n",
            "Requirement already satisfied: pytz>=2017.2 in /usr/local/lib/python3.6/dist-packages (from pandas>=0.24.0->catboost) (2018.9)\n",
            "Requirement already satisfied: python-dateutil>=2.7.3 in /usr/local/lib/python3.6/dist-packages (from pandas>=0.24.0->catboost) (2.8.1)\n",
            "Requirement already satisfied: pyparsing!=2.0.4,!=2.1.2,!=2.1.6,>=2.0.1 in /usr/local/lib/python3.6/dist-packages (from matplotlib->catboost) (2.4.7)\n",
            "Requirement already satisfied: kiwisolver>=1.0.1 in /usr/local/lib/python3.6/dist-packages (from matplotlib->catboost) (1.3.1)\n",
            "Requirement already satisfied: cycler>=0.10 in /usr/local/lib/python3.6/dist-packages (from matplotlib->catboost) (0.10.0)\n",
            "Requirement already satisfied: retrying>=1.3.3 in /usr/local/lib/python3.6/dist-packages (from plotly->catboost) (1.3.3)\n",
            "Installing collected packages: catboost\n",
            "Successfully installed catboost-0.24.4\n"
          ],
          "name": "stdout"
        }
      ]
    },
    {
      "cell_type": "code",
      "metadata": {
        "id": "j1wZvjILkpHx"
      },
      "source": [
        "#from sklearn import linear_model\n",
        "from sklearn.ensemble import RandomForestRegressor\n",
        "from sklearn.linear_model import LinearRegression\n",
        "from sklearn.svm import SVR\n",
        "from sklearn.neighbors import KNeighborsRegressor\n",
        "from sklearn.tree import DecisionTreeRegressor\n",
        "from sklearn.linear_model import Ridge\n",
        "from sklearn.linear_model import ElasticNet\n",
        "from sklearn.ensemble import GradientBoostingRegressor\n",
        "from sklearn.linear_model import HuberRegressor\n",
        "from sklearn.linear_model import Lasso\n",
        "from lightgbm import LGBMRegressor\n",
        "from catboost import Pool, CatBoostRegressor\n",
        "from sklearn.model_selection import cross_val_score"
      ],
      "execution_count": 9,
      "outputs": []
    },
    {
      "cell_type": "code",
      "metadata": {
        "id": "CnKzlIrOpw3H"
      },
      "source": [
        "from sklearn.metrics import mean_squared_log_error\r\n",
        "from sklearn.preprocessing import LabelEncoder\r\n",
        "import gc\r\n",
        "\r\n",
        "def RMSLE(y_true, y_pred, *args, **kwargs):\r\n",
        "   return np.sqrt(mean_squared_log_error(y_true, y_pred))"
      ],
      "execution_count": 18,
      "outputs": []
    },
    {
      "cell_type": "markdown",
      "metadata": {
        "id": "19d8IlCU57Qh"
      },
      "source": [
        "autre kaggle"
      ]
    },
    {
      "cell_type": "code",
      "metadata": {
        "id": "_YXrByCm4j-j"
      },
      "source": [
        "from sklearn.model_selection import KFold\r\n"
      ],
      "execution_count": 19,
      "outputs": []
    },
    {
      "cell_type": "code",
      "metadata": {
        "id": "u91RQKst56iB"
      },
      "source": [
        "svr_params = {\r\n",
        "    \"kernel\": \"poly\",\r\n",
        "    \"C\": 0.053677105521141605,\r\n",
        "    \"epsilon\": 0.03925943476562099,\r\n",
        "    \"coef0\": 0.9486751042886584,\r\n",
        "}\r\n",
        "ridge_params = {\r\n",
        "    \"alpha\": 0.9999189637151178,\r\n",
        "    \"tol\": 0.8668539399622242,\r\n",
        "    \"solver\": \"cholesky\",\r\n",
        "}\r\n",
        "lasso_params = {\"alpha\":1.0, \"max_iter\":1, \"tol\":0.01,}\r\n",
        "lgbm_params = {\r\n",
        "    \"num_leaves\": 16,\r\n",
        "    \"max_depth\": 4,\r\n",
        "    \"learning_rate\": 0.16060612646519587,\r\n",
        "    \"n_estimators\": 94,\r\n",
        "    \"min_child_weight\": 0.4453842422224686,\r\n",
        "}\r\n",
        "\r\n",
        "gbr_params = { \"n_estimators\":17, \"alpha\":0.9,  \"tol\":0.1,}\r\n",
        "rdf_params = {\"n_estimators\":6, \"max_depth\":4}\r\n",
        "lnr_params ={ \"fit_intercept\":True, \"normalize\":False, \"copy_X\":True,}\r\n",
        "knb_params = {\"n_neighbors\":2, }\r\n",
        "tree_params = {\"criterion\":'mse',  \"max_depth\":7}\r\n",
        "enet_params = { \"alpha\":1.0,  \"fit_intercept\":True, \"max_iter\":0,}\r\n",
        "hub_params = {\"epsilon\":1.36, \"max_iter\":100, \"alpha\":0.1,  \"tol\":0.01, }\r\n",
        "cat_params = {\"iterations\":7,\"learning_rate\":0.9}\r\n",
        "    "
      ],
      "execution_count": 20,
      "outputs": []
    },
    {
      "cell_type": "code",
      "metadata": {
        "colab": {
          "base_uri": "https://localhost:8080/"
        },
        "id": "_IdSTbWi4bXL",
        "outputId": "a85a7676-68fa-4c84-d641-191b26a2ef06"
      },
      "source": [
        "from mlxtend.regressor import StackingCVRegressor\r\n",
        "\r\n",
        "\r\n",
        "svr = SVR(**svr_params)\r\n",
        "ridge = Ridge(**ridge_params, random_state=0)\r\n",
        "lasso = Lasso(**lasso_params, random_state=0)\r\n",
        "lgbm = LGBMRegressor(**lgbm_params, random_state=0)\r\n",
        "gbr= GradientBoostingRegressor(**gbr_params, random_state=0)\r\n",
        "rdf = RandomForestRegressor(**rdf_params,random_state=0)\r\n",
        "lnr= LinearRegression(**lnr_params)\r\n",
        "knb= KNeighborsRegressor(**knb_params)\r\n",
        "tree=DecisionTreeRegressor(**tree_params, random_state=0)\r\n",
        "enet= ElasticNet(**enet_params, random_state=0)\r\n",
        "hub = HuberRegressor(**hub_params)\r\n",
        "cat=CatBoostRegressor(**cat_params, random_state=0)\r\n",
        "\r\n",
        "\r\n",
        "svr_scores = svr.fit( X_train, y_train)\r\n",
        "ridge_scores = ridge.fit( X_train, y_train)\r\n",
        "lasso_scores = lasso.fit(X_train, y_train)\r\n",
        "lgbm_scores = lgbm.fit(X_train, y_train)\r\n",
        "gbr_scores = gbr.fit(X_train, y_train)\r\n",
        "rdf_scores = rdf.fit(X_train, y_train)\r\n",
        "lnr_scores = lnr.fit(X_train, y_train)\r\n",
        "knb_scores = knb.fit(X_train, y_train)\r\n",
        "tree_scores = tree.fit(X_train, y_train)\r\n",
        "enet_scores = enet.fit(X_train, y_train)\r\n",
        "hub_scores = hub.fit(X_train, y_train)\r\n",
        "cat_scores = cat.fit(X_train, y_train)\r\n",
        "\r\n",
        "y_pred=svr_scores.predict(X_test) \r\n",
        "y_pred = np.exp(y_pred)\r\n",
        "svr_result=round((RMSLE(y_test, y_pred)*100),2)\r\n",
        "\r\n",
        "y_pred1=ridge_scores.predict(X_test) \r\n",
        "y_pred1 = np.exp(y_pred1)\r\n",
        "ridge_result=round((RMSLE(y_test, y_pred1)*100),2)\r\n",
        "\r\n",
        "y_pred2=lasso_scores.predict(X_test) \r\n",
        "y_pred2 = np.exp(y_pred2)\r\n",
        "lasso_result=round((RMSLE(y_test, y_pred2)*100),2)\r\n",
        "\r\n",
        "y_pred3=lgbm_scores.predict(X_test) \r\n",
        "y_pred3 = np.exp(y_pred3)\r\n",
        "lgbm_result=round((RMSLE(y_test, y_pred3)*100),2)\r\n",
        "\r\n",
        "y_pred4=gbr_scores.predict(X_test) \r\n",
        "y_pred4 = np.exp(y_pred4)\r\n",
        "gbr_result=round((RMSLE(y_test, y_pred4)*100),2)\r\n",
        "\r\n",
        "y_pred5=rdf_scores.predict(X_test) \r\n",
        "y_pred5 = np.exp(y_pred5)\r\n",
        "rdf_result=round((RMSLE(y_test, y_pred5)*100),2)\r\n",
        "\r\n",
        "y_pred6=lnr_scores.predict(X_test) \r\n",
        "y_pred6 = np.exp(y_pred6)\r\n",
        "lnr_result=round((RMSLE(y_test, y_pred6)*100),2)\r\n",
        "\r\n",
        "y_pred8=knb_scores.predict(X_test) \r\n",
        "y_pred8 = np.exp(y_pred8)\r\n",
        "knb_result=round((RMSLE(y_test, y_pred8)*100),2)\r\n",
        "\r\n",
        "y_pred9 = tree_scores.predict(X_test) \r\n",
        "y_pred9 = np.exp(y_pred9)\r\n",
        "tree_result=round((RMSLE(y_test, y_pred9)*100),2)\r\n",
        "\r\n",
        "y_pred10=enet_scores.predict(X_test) \r\n",
        "y_pred10 = np.exp(y_pred10)\r\n",
        "enet_result=round((RMSLE(y_test, y_pred10)*100),2)\r\n",
        "\r\n",
        "y_pred11=hub_scores.predict(X_test) \r\n",
        "y_pred11 = np.exp(y_pred11)\r\n",
        "hub_result=round((RMSLE(y_test, y_pred11)*100),2)     #round(hub_result,3)) permet d'afficher le nombre 2 chiffre aprés la virgule\r\n",
        "\r\n",
        "y_pred12=cat_scores.predict(X_test) \r\n",
        "y_pred12 = np.exp(y_pred12)\r\n",
        "cat_result=round((RMSLE(y_test, y_pred12)*100),2)\r\n",
        "\r\n",
        "\r\n",
        "\r\n",
        "models = [\"SVR\", \"Ridge\", \"Lasso\", \"LGBM\", \"GradientBoosting\", \"Randomforest\", \"Linear\",  \"KNeighbors\", \"Tree\", \"ElasticNet\", \"Huber\", \"CatBoost\"]\r\n",
        "scores = [svr_result,ridge_result,lasso_result,lgbm_result,gbr_result,rdf_result, lnr_result, knb_result, tree_result, enet_result, hub_result, cat_result]\r\n",
        "print(models)\r\n",
        "print(scores)\r\n"
      ],
      "execution_count": 23,
      "outputs": [
        {
          "output_type": "stream",
          "text": [
            "0:\tlearn: 0.4189229\ttotal: 4.41ms\tremaining: 26.4ms\n",
            "1:\tlearn: 0.3974779\ttotal: 8.16ms\tremaining: 20.4ms\n",
            "2:\tlearn: 0.3511745\ttotal: 11.5ms\tremaining: 15.3ms\n",
            "3:\tlearn: 0.3348315\ttotal: 14.8ms\tremaining: 11.1ms\n",
            "4:\tlearn: 0.3162654\ttotal: 18ms\tremaining: 7.2ms\n",
            "5:\tlearn: 0.2947650\ttotal: 21.5ms\tremaining: 3.58ms\n",
            "6:\tlearn: 0.2808703\ttotal: 24.8ms\tremaining: 0us\n",
            "['SVR', 'Ridge', 'Lasso', 'LGBM', 'GradientBoosting', 'Randomforest', 'Linear', 'KNeighbors', 'Tree', 'ElasticNet', 'Huber', 'CatBoost']\n",
            "[77.07, 58.15, 59.6, 61.14, 61.54, 62.7, 58.23, 64.21, 68.53, 60.18, 50.85, 65.32]\n"
          ],
          "name": "stdout"
        },
        {
          "output_type": "stream",
          "text": [
            "/usr/local/lib/python3.6/dist-packages/sklearn/linear_model/_coordinate_descent.py:476: ConvergenceWarning: Objective did not converge. You might want to increase the number of iterations. Duality gap: 19.448834235817714, tolerance: 0.4038743455497384\n",
            "  positive)\n",
            "/usr/local/lib/python3.6/dist-packages/sklearn/linear_model/_coordinate_descent.py:476: ConvergenceWarning: Objective did not converge. You might want to increase the number of iterations. Duality gap: 1.0001, tolerance: 0.004038743455497384\n",
            "  positive)\n"
          ],
          "name": "stderr"
        }
      ]
    },
    {
      "cell_type": "code",
      "metadata": {
        "colab": {
          "base_uri": "https://localhost:8080/",
          "height": 500
        },
        "id": "lcjL3ao2aQ0q",
        "outputId": "22cdc155-12fe-43d4-aa96-5122d7a908c8"
      },
      "source": [
        "fig, ax = plt.subplots(figsize=(18, 8))   #taille de la fenetre longeur largeur\r\n",
        "ax.set_title('Visualization of accuracies of Regression Algorithms')\r\n",
        "bp = sns.boxplot(x=models, y=scores, ax=ax)\r\n",
        "\r\n",
        "for xtick in bp.get_xticks():\r\n",
        "    bp.text(\r\n",
        "        xtick,\r\n",
        "        scores[xtick],\r\n",
        "        scores[xtick],    #permet d'affichier en bleu la donnée sur le point resultat\r\n",
        "        horizontalalignment=\"center\",\r\n",
        "        size=15,     #taille des chiffres\r\n",
        "        color=\"b\",\r\n",
        "        weight=\"book\",   #style d'ecriture\r\n",
        "    )\r\n",
        "\r\n",
        "plt.show()"
      ],
      "execution_count": 29,
      "outputs": [
        {
          "output_type": "display_data",
          "data": {
            "image/png": "[encoded data removed]",
            "text/plain": [
              "<Figure size 1296x576 with 1 Axes>"
            ]
          },
          "metadata": {
            "tags": []
          }
        }
      ]
    },
    {
      "cell_type": "code",
      "metadata": {
        "colab": {
          "base_uri": "https://localhost:8080/",
          "height": 353
        },
        "id": "KfLq6-csIa0n",
        "outputId": "ee41651b-b656-44b3-9611-b91fa7f8d52e"
      },
      "source": [
        "sns.set_colorcodes=True\r\n",
        "plt.title('Visualization of accuracies of Regression Algorithms')\r\n",
        "sns.barplot(scores,models)"
      ],
      "execution_count": 30,
      "outputs": [
        {
          "output_type": "stream",
          "text": [
            "/usr/local/lib/python3.6/dist-packages/seaborn/_decorators.py:43: FutureWarning: Pass the following variables as keyword args: x, y. From version 0.12, the only valid positional argument will be `data`, and passing other arguments without an explicit keyword will result in an error or misinterpretation.\n",
            "  FutureWarning\n"
          ],
          "name": "stderr"
        },
        {
          "output_type": "execute_result",
          "data": {
            "text/plain": [
              "<matplotlib.axes._subplots.AxesSubplot at 0x7f34c3ddbe80>"
            ]
          },
          "metadata": {
            "tags": []
          },
          "execution_count": 30
        },
        {
          "output_type": "display_data",
          "data": {
            "image/png": "[encoded data removed]",
            "text/plain": [
              "<Figure size 432x288 with 1 Axes>"
            ]
          },
          "metadata": {
            "tags": []
          }
        }
      ]
    }
  ]
}